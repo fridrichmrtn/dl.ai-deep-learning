{
 "cells": [
  {
   "cell_type": "markdown",
   "metadata": {},
   "source": [
    "# References\n",
    "\n",
    "## Week 1:\n",
    "- [Minimal character-level language model with a Vanilla Recurrent Neural Network, in Python/numpy](https://github.com/karpathy/micrograd) (GitHub: karpathy)\n",
    "- [The Unreasonable Effectiveness of Recurrent Neural Networks](https://karpathy.github.io/2015/05/21/rnn-effectiveness/) (Andrej Karpathy blog, 2015)\n",
    "- [deepjazz](https://github.com/jisungk/deepjazz) (GitHub: jisungk)\n",
    "- [Learning Jazz Grammars](https://www.cs.cmu.edu/~./gillick/papers/ismir2010-final.pdf) (Gillick, Tang & Keller, 2010)\n",
    "- [A Grammatical Approach to Automatic Improvisation](https://www.researchgate.net/publication/234792945_A_Grammatical_Approach_to_Automatic_Improvisation) (Keller & Morrison, 2007)\n",
    "- [Surprising Harmonies](https://www.researchgate.net/publication/228906982_Surprising_Harmonies) (Pachet, 1999)\n",
    "\n",
    "## Week 2:\n",
    "- [Man is to Computer Programmer as Woman is to Homemaker? Debiasing Word Embeddings](https://arxiv.org/abs/1607.06520) (Bolukbasi, Chang, Zou, Saligrama & Kalai, 2016)\n",
    "- [GloVe: Global Vectors for Word Representation](https://nlp.stanford.edu/pubs/glove.pdf) (Pennington, Socher & Manning, 2014)\n",
    "- [Woebot](https://woebothealth.com/) (Woebot Website)\n",
    "\n",
    "## Week 4:\n",
    "- [Natural Language Processing Specialization](https://www.deeplearning.ai/) (by DeepLearning.AI)\n",
    "- [Attention Is All You Need](https://arxiv.org/abs/1706.03762) (Vaswani, Shazeer, Parmar, Uszkoreit, Jones, Gomez, Kaiser & Polosukhin, 2017)\n",
    "\n",
    "\n",
    "\n",
    "\n",
    "\n",
    "\n",
    "\n",
    "\n"
   ]
  }
 ],
 "metadata": {
  "language_info": {
   "name": "python"
  }
 },
 "nbformat": 4,
 "nbformat_minor": 2
}
