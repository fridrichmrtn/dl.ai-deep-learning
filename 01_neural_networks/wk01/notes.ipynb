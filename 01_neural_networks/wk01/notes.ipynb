{
 "cells": [
  {
   "cell_type": "markdown",
   "metadata": {},
   "source": [
    "# Introduction to deep learning\n",
    "\n",
    "* large neural networks\n",
    "    * stack of interconnected neurons between x & y (input/hidden/output)\n",
    "    * mapping between x & y extracted from the data\n",
    "\n",
    "* supervised learning\n",
    "    * applications > pricing, advertising, image tagging, speech-recognition, translation, autonomous driving etc\n",
    "    * MLP (tabular), CNN (image), RNN/LSTM (sequence), hybrid NN architectures (eg self-driving)\n",
    "    * structured (tabular) /unstructured data (others)\n",
    "\n",
    "* deep-learning take off\n",
    "    * data\n",
    "    * compute\n",
    "    * algorithms\n",
    "    * rapid experimentation"
   ]
  }
 ],
 "metadata": {
  "language_info": {
   "name": "python"
  }
 },
 "nbformat": 4,
 "nbformat_minor": 2
}
