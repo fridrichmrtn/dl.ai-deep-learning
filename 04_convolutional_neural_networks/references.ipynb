{
 "cells": [
  {
   "cell_type": "markdown",
   "metadata": {},
   "source": [
    "# References\n",
    "\n",
    "## Week 1:\n",
    "- [The Sequential model](https://www.tensorflow.org/guide/keras/sequential_model) (TensorFlow Documentation)\n",
    "- [The Functional API](https://www.tensorflow.org/guide/keras/functional) (TensorFlow Documentation)\n",
    "\n",
    "## Week 2:\n",
    "- [Deep Residual Learning for Image Recognition](https://arxiv.org/abs/1512.03385) (He, Zhang, Ren & Sun, 2015)\n",
    "- [deep-learning-models/resnet50.py](https://github.com/fchollet/deep-learning-models/blob/master/resnet50.py) (GitHub: fchollet)\n",
    "- [MobileNets: Efficient Convolutional Neural Networks for Mobile Vision Applications](https://arxiv.org/abs/1704.04861) (Howard, Zhu, Chen, Kalenichenko, Wang, Weyand, Andreetto, & Adam, 2017)\n",
    "- [MobileNetV2: Inverted Residuals and Linear Bottlenecks](https://arxiv.org/abs/1801.04381) (Sandler, Howard, Zhu, Zhmoginov & Chen, 2018)\n",
    "- [EfficientNet: Rethinking Model Scaling for Convolutional Neural Networks](https://arxiv.org/abs/1905.11946) (Tan & Le, 2019)\n",
    "\n",
    "## Week 3:\n",
    "- [You Only Look Once: Unified, Real-Time Object Detection](https://arxiv.org/abs/1506.02640) (Redmon, Divvala, Girshick & Farhadi, 2015)\n",
    "- [YOLO9000: Better, Faster, Stronger](https://arxiv.org/abs/1612.08242) (Redmon & Farhadi, 2016)\n",
    "- [YAD2K](https://github.com/allanzelener/YAD2K) (GitHub: allanzelener)\n",
    "- [YOLO: Real-Time Object Detection](https://pjreddie.com/darknet/yolo/)\n",
    "- [Fully Convolutional Architectures for Multi-Class Segmentation in Chest Radiographs](https://arxiv.org/abs/1710.05393) (Novikov, Lenis, Major, Hladůvka, Wimmer & Bühler, 2017)\n",
    "- [Automatic Brain Tumor Detection and Segmentation Using U-Net Based Fully Convolutional Networks](https://arxiv.org/abs/1705.03820) (Dong, Yang, Liu, Mo & Guo, 2017)\n",
    "- [U-Net: Convolutional Networks for Biomedical Image Segmentation](https://arxiv.org/abs/1505.04597) (Ronneberger, Fischer & Brox, 2015)\n",
    "\n",
    "## Week 4:\n",
    "- [FaceNet: A Unified Embedding for Face Recognition and Clustering](https://arxiv.org/abs/1503.03832) (Schroff, Kalenichenko & Philbin, 2015)\n",
    "- [DeepFace: Closing the Gap to Human-Level Performance in Face Verification](https://ieeexplore.ieee.org/document/6909616) (Taigman, Yang, Ranzato & Wolf)\n",
    "- [facenet](https://github.com/davidsandberg/facenet) (GitHub: davidsandberg)\n",
    "- [How to Develop a Face Recognition System Using FaceNet in Keras](https://machinelearningmastery.com/how-to-develop-a-face-recognition-system-using-facenet-in-keras/) (Jason Brownlee, 2019)\n",
    "- [keras-facenet/notebook/tf_to_keras.ipynb](https://github.com/nyoki-mtl/keras-facenet/blob/master/notebook/tf_to_keras.ipynb) (GitHub: nyoki-mtl)\n",
    "- [A Neural Algorithm of Artistic Style](https://arxiv.org/abs/1508.06576) (Gatys, Ecker & Bethge, 2015)\n",
    "- [Convolutional neural networks for artistic style transfer](https://github.com/leongatys/DeepTextures)\n",
    "- [TensorFlow Implementation of \"A Neural Algorithm of Artistic Style\"](https://github.com/anishathalye/neural-style)\n",
    "- [Very Deep Convolutional Networks For Large-Scale Image Recognition](https://arxiv.org/abs/1409.1556) (Simonyan & Zisserman, 2015)\n",
    "- [Pretrained models](http://www.vlfeat.org/matconvnet/pretrained/) (MatConvNet)"
   ]
  }
 ],
 "metadata": {
  "language_info": {
   "name": "python"
  }
 },
 "nbformat": 4,
 "nbformat_minor": 2
}
