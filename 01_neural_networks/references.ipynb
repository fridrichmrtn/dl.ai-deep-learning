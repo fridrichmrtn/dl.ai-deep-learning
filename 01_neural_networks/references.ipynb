{
 "cells": [
  {
   "cell_type": "markdown",
   "metadata": {},
   "source": [
    "# References\n",
    "\n",
    "## Week 2:\n",
    "- [Implementing a Neural Network from Scratch in Python – An Introduction](https://github.com/dennybritz/nn-from-scratch) (GitHub: Denny Britz, 2015)\n",
    "- [Why normalize images by subtracting dataset's image mean, instead of the current image mean in deep learning?](https://ai.stackexchange.com/questions/10064/why-normalize-images-by-subtracting-datasets-image-mean-instead-of-the-current) (Stack Exchange)\n",
    "\n",
    "## Week 3:\n",
    "- [CS231n: Convolutional Neural Networks for Visual Recognition](http://cs231n.stanford.edu/) (Stanford University)\n",
    "\n",
    "## Week 4:\n",
    "- [Autoreload of modules in IPython](https://stackoverflow.com/questions/1907993/autoreload-of-modules-in-ipython) (Stack Overflow)"
   ]
  }
 ],
 "metadata": {
  "language_info": {
   "name": "python"
  }
 },
 "nbformat": 4,
 "nbformat_minor": 2
}
