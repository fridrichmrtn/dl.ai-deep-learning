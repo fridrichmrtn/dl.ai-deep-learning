{
 "cells": [
  {
   "cell_type": "markdown",
   "metadata": {},
   "source": [
    "# Hyperparameter tuning, batch normalization and frameworks\n",
    "\n",
    "## Hyperparameter tuning\n",
    "\n",
    "* tree of importance\n",
    "    * learning rate\n",
    "        * momentum\n",
    "        * batch size\n",
    "        * no of hidden units\n",
    "            * layers\n",
    "            * learning rate decay\n",
    "\n",
    "* optimization strategies\n",
    "    * grid search\n",
    "    * random search\n",
    "    * coarse to fine - zoom in on potentially interesting subsets of space\n",
    "\n",
    "* sampling scales\n",
    "    * uniform (no of layers, hidden units)\n",
    "    * log scale (learning rate, momentum -> due to the nature of the smoothing with $ 1/(1-\\beta)$)\n",
    "\n",
    "* babysitting one model (panda) vs training many models in parallel (caviar)\n"
   ]
  },
  {
   "cell_type": "markdown",
   "metadata": {},
   "source": [
    "## Batch normalization\n",
    "\n",
    "* Can we normalize activation inputs/outputs of each layer to speed up the learning process?\n",
    "* algorithm (one layer description)\n",
    "    * activation input in a layer $z^{(1)},...,z^{(m)}$\n",
    "    * calculate z-score on those units $z^{(i)}_{norm} = \\frac{z^{(i)}-\\mu_z}{\\sqrt{\\sigma^2_z+\\epsilon}}$\n",
    "    * modify that using $\\tilde{z}^{(i)} = \\gamma z^{(i)}_{norm} + \\beta$, where $\\gamma$ and $\\beta$ are learnable params (more flexibility for ie sigmoid)\n",
    "* algorithm (multi-layer)\n",
    "    * forward step -> traditional &  $\\tilde{z}^{[l]}$\n",
    "    * backward step -> add parameter grads for $\\beta$ & $\\gamma$, update parameters $W$,$\\beta$,$\\gamma$\n",
    "    * NOTE: bias not needed here as $\\mu$ subtracted in every step\n",
    "    * dimensions $\\beta^{[l]}$ : $(n^{[l]},1)$ ; $\\gamma^{[l]}$ : $(n^{[l]},1)$\n",
    "\n",
    "* test time\n",
    "    * estimating $\\mu$, $\\sigma$ during test time through exponentially weighted averages (across mini-batches) within the normalized $\\tilde{z}$\n",
    "\n",
    "* intuition\n",
    "    * scaling within the network will improve training time (making optimization bowl more symmetric?)\n",
    "    * covariant shift -> reusing model in cases where data distribution (and even ground truth func) shifts\n",
    "    * stabilizing the param distribution within a layer\n",
    "    * slight regularization effect for mini-batches (noise introduced by param updates on small amount of data)\n"
   ]
  },
  {
   "cell_type": "markdown",
   "metadata": {},
   "source": [
    "## Multiclass\n",
    "\n",
    "* generalization of logistic regression to multiple-class problems -> softmax regression\n",
    "* number of neurons in output layer equals to number of classes $(n_{classes},1)$\n",
    "* softmax activation function -> $a^{[l]}=\\frac{e^{z^{[l]}}}{\\sum_{i=1}^{n_{classes}} e^{z^{[l]}}_i}$\n",
    "* loss function -> $L(\\hat{y},y) = -\\sum_{i=1}^{n_{classes}} y_i log(\\hat{y_i})$ (MLE equivalent)\n",
    "* cost function -> $\\frac{1}{m} \\sum_{i=1}^{m} L(\\hat{y}^{(i)},y^{(i)})$\n",
    "* backprop step -> $dz^{[l]}=\\hat{y}-y$, size $(n_{classes},1)$"
   ]
  },
  {
   "cell_type": "markdown",
   "metadata": {},
   "source": [
    "## Frameworks\n",
    "\n",
    "* development & deployment vs speed vs open/closed source\n",
    "* tensorflow\n",
    "    * allows for user to define just forward pass and leave the backward pass to the underlying engine (see code example below)\n",
    "    * constructs computational graph in forward-prop fashion, up to the cost function, use the graph for back-prop"
   ]
  },
  {
   "cell_type": "code",
   "execution_count": 1,
   "metadata": {},
   "outputs": [
    {
     "name": "stderr",
     "output_type": "stream",
     "text": [
      "2024-09-14 10:11:19.569415: I external/local_xla/xla/tsl/cuda/cudart_stub.cc:32] Could not find cuda drivers on your machine, GPU will not be used.\n",
      "2024-09-14 10:11:19.571834: I external/local_xla/xla/tsl/cuda/cudart_stub.cc:32] Could not find cuda drivers on your machine, GPU will not be used.\n",
      "2024-09-14 10:11:19.578735: E external/local_xla/xla/stream_executor/cuda/cuda_fft.cc:485] Unable to register cuFFT factory: Attempting to register factory for plugin cuFFT when one has already been registered\n",
      "2024-09-14 10:11:19.589558: E external/local_xla/xla/stream_executor/cuda/cuda_dnn.cc:8454] Unable to register cuDNN factory: Attempting to register factory for plugin cuDNN when one has already been registered\n",
      "2024-09-14 10:11:19.592823: E external/local_xla/xla/stream_executor/cuda/cuda_blas.cc:1452] Unable to register cuBLAS factory: Attempting to register factory for plugin cuBLAS when one has already been registered\n",
      "2024-09-14 10:11:19.601988: I tensorflow/core/platform/cpu_feature_guard.cc:210] This TensorFlow binary is optimized to use available CPU instructions in performance-critical operations.\n",
      "To enable the following instructions: AVX2 FMA, in other operations, rebuild TensorFlow with the appropriate compiler flags.\n",
      "2024-09-14 10:11:20.300589: W tensorflow/compiler/tf2tensorrt/utils/py_utils.cc:38] TF-TRT Warning: Could not find TensorRT\n"
     ]
    },
    {
     "name": "stdout",
     "output_type": "stream",
     "text": [
      "initial w <tf.Variable 'Variable:0' shape=() dtype=float32, numpy=0.0>\n",
      "final w <tf.Variable 'Variable:0' shape=() dtype=float32, numpy=5.000001>\n"
     ]
    }
   ],
   "source": [
    "import numpy as np\n",
    "import tensorflow as tf\n",
    "\n",
    "w = tf.Variable(0, dtype=tf.float32)\n",
    "optimizer = tf.optimizers.Adam(0.1)\n",
    "\n",
    "def train_step():\n",
    "    # gradient tape recording the order of the operations if forward-prop to \"play it backwards\" for the grads\n",
    "    with tf.GradientTape() as tape:\n",
    "        cost = w**2-10*w+25 # quadratic func with the minimum of 5\n",
    "    trainable_variables = [w]\n",
    "    grads = tape.gradient(cost, trainable_variables)\n",
    "    optimizer.apply_gradients(zip(grads, trainable_variables))\n",
    "\n",
    "print(f\"initial w {w}\")\n",
    "for i in range(1000):\n",
    "    train_step()\n",
    "print(f\"final w {w}\")"
   ]
  },
  {
   "cell_type": "code",
   "execution_count": 2,
   "metadata": {},
   "outputs": [
    {
     "name": "stdout",
     "output_type": "stream",
     "text": [
      "initial w <tf.Variable 'Variable:0' shape=() dtype=float32, numpy=0.0>\n",
      "final w <tf.Variable 'Variable:0' shape=() dtype=float32, numpy=5.000001>\n"
     ]
    }
   ],
   "source": [
    "w = tf.Variable(0, dtype=tf.float32)\n",
    "optimizer = tf.optimizers.Adam(0.1)\n",
    "x = np.array([1.0,-10.0,25.0], dtype=np.float32)\n",
    "\n",
    "def training (x,w,optimizer):\n",
    "    print(f\"initial w {w}\")\n",
    "    def cost_fn():\n",
    "        return x[0]*w**2+x[1]*w+x[2]\n",
    "    for i in range(1000):\n",
    "        with tf.GradientTape() as tape:\n",
    "            cost = cost_fn()\n",
    "        grads = tape.gradient(cost, [w])\n",
    "        optimizer.apply_gradients(zip(grads, [w]))\n",
    "        # example relies on legacy api\n",
    "    print(f\"final w {w}\")\n",
    "\n",
    "training(x,w,optimizer)"
   ]
  },
  {
   "cell_type": "markdown",
   "metadata": {},
   "source": [
    "## Reading list\n",
    "\n",
    "\n",
    "* [https://www.tensorflow.org/guide/autodiff](https://www.tensorflow.org/guide/autodiff)\n",
    "* [https://www.tensorflow.org/api_docs/python/tf/GradientTape](https://www.tensorflow.org/api_docs/python/tf/GradientTape)\n"
   ]
  }
 ],
 "metadata": {
  "kernelspec": {
   "display_name": ".env",
   "language": "python",
   "name": "python3"
  },
  "language_info": {
   "codemirror_mode": {
    "name": "ipython",
    "version": 3
   },
   "file_extension": ".py",
   "mimetype": "text/x-python",
   "name": "python",
   "nbconvert_exporter": "python",
   "pygments_lexer": "ipython3",
   "version": "3.12.3"
  }
 },
 "nbformat": 4,
 "nbformat_minor": 2
}
