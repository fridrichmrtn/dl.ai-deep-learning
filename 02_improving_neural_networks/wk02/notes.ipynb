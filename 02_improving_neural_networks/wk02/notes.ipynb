{
 "cells": [
  {
   "cell_type": "markdown",
   "metadata": {},
   "source": [
    "# Optimization algorithms\n",
    "\n",
    "## Mini-batch gradient descent\n",
    "\n",
    "* optimization steps on subset of training examples (mini-batches)\n",
    "* mini-batch $t$ is described with $X^{\\{1\\}}: (n_x, batch\\ size), Y^{\\{1\\}}: (1, batch\\ size)$\n",
    "* algorithm\n",
    "    * for each batch (loop)  \n",
    "        (vectorized)  \n",
    "        * forward propagation\n",
    "        * costs (scaled)\n",
    "        * back prop\n",
    "        * update  \n",
    "        \n",
    "        (/vectorized)  \n",
    "        \n",
    "    (/loop)\n",
    "* epoch - single pass through the training set\n",
    "*"
   ]
  },
  {
   "cell_type": "markdown",
   "metadata": {},
   "source": []
  },
  {
   "cell_type": "markdown",
   "metadata": {},
   "source": []
  }
 ],
 "metadata": {
  "language_info": {
   "name": "python"
  }
 },
 "nbformat": 4,
 "nbformat_minor": 2
}
